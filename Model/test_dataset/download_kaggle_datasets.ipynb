{
 "cells": [
  {
   "cell_type": "code",
   "execution_count": 1,
   "id": "52e1075d",
   "metadata": {},
   "outputs": [
    {
     "name": "stderr",
     "output_type": "stream",
     "text": [
      "c:\\Users\\hp\\anaconda3\\envs\\alzheimer\\lib\\site-packages\\tqdm\\auto.py:21: TqdmWarning: IProgress not found. Please update jupyter and ipywidgets. See https://ipywidgets.readthedocs.io/en/stable/user_install.html\n",
      "  from .autonotebook import tqdm as notebook_tqdm\n"
     ]
    },
    {
     "name": "stdout",
     "output_type": "stream",
     "text": [
      "Warning: Looks like you're using an outdated `kagglehub` version, please consider updating (latest version: 0.3.13)\n",
      "Downloading from https://www.kaggle.com/api/v1/datasets/download/lukechugh/best-alzheimer-mri-dataset-99-accuracy?dataset_version_number=1...\n"
     ]
    },
    {
     "name": "stderr",
     "output_type": "stream",
     "text": [
      "100%|█████████████████████████████████████████████████████████████████████████████| 71.5M/71.5M [00:35<00:00, 2.12MB/s]"
     ]
    },
    {
     "name": "stdout",
     "output_type": "stream",
     "text": [
      "Extracting model files...\n"
     ]
    },
    {
     "name": "stderr",
     "output_type": "stream",
     "text": [
      "\n"
     ]
    },
    {
     "name": "stdout",
     "output_type": "stream",
     "text": [
      "Dataset downloaded to: C:\\Users\\hp\\.cache\\kagglehub\\datasets\\lukechugh\\best-alzheimer-mri-dataset-99-accuracy\\versions\\1\n"
     ]
    }
   ],
   "source": [
    "import kagglehub\n",
    "\n",
    "# Try downloading the dataset\n",
    "path = kagglehub.dataset_download(\"lukechugh/best-alzheimer-mri-dataset-99-accuracy\")\n",
    "\n",
    "print(\"Dataset downloaded to:\", path)"
   ]
  },
  {
   "cell_type": "code",
   "execution_count": 3,
   "id": "a511bd33",
   "metadata": {},
   "outputs": [
    {
     "name": "stdout",
     "output_type": "stream",
     "text": [
      "Warning: Looks like you're using an outdated `kagglehub` version, please consider updating (latest version: 0.3.13)\n",
      "Downloading from https://www.kaggle.com/api/v1/datasets/download/rabieelkharoua/alzheimers-disease-dataset?dataset_version_number=1...\n"
     ]
    },
    {
     "name": "stderr",
     "output_type": "stream",
     "text": [
      "100%|████████████████████████████████████████████████████████████████████████████████| 268k/268k [00:00<00:00, 340kB/s]"
     ]
    },
    {
     "name": "stdout",
     "output_type": "stream",
     "text": [
      "Extracting model files...\n"
     ]
    },
    {
     "name": "stderr",
     "output_type": "stream",
     "text": [
      "\n"
     ]
    },
    {
     "name": "stdout",
     "output_type": "stream",
     "text": [
      "✅ Dataset moved to: E:\\University\\Year_3\\Grad\\ADNI_MULTIMODAL\\Model\\test_dataset\n"
     ]
    }
   ],
   "source": [
    "import kagglehub\n",
    "import shutil\n",
    "import os\n",
    "\n",
    "# Step 1: Download the dataset (this goes to KaggleHub's default cache)\n",
    "path = kagglehub.dataset_download(\"rabieelkharoua/alzheimers-disease-dataset\")\n",
    "\n",
    "# Step 2: Your target directory\n",
    "target_dir = r\"E:\\University\\Year_3\\Grad\\ADNI_MULTIMODAL\\Model\\test_dataset\"\n",
    "\n",
    "# Step 3: Create directory if it doesn't exist\n",
    "os.makedirs(target_dir, exist_ok=True)\n",
    "\n",
    "# Step 4: Move dataset files\n",
    "for file in os.listdir(path):\n",
    "    shutil.move(os.path.join(path, file), os.path.join(target_dir, file))\n",
    "\n",
    "print(\"✅ Dataset moved to:\", target_dir)"
   ]
  },
  {
   "cell_type": "code",
   "execution_count": 1,
   "id": "c030ba7e-a52e-436c-8c8c-273c8c280145",
   "metadata": {},
   "outputs": [
    {
     "name": "stdout",
     "output_type": "stream",
     "text": [
      "✅ Dataset successfully moved to: E:\\University\\Year_3\\Grad\\ADNI_MULTIMODAL\\Model\\test_dataset\n"
     ]
    }
   ],
   "source": [
    "import os\n",
    "import shutil\n",
    "\n",
    "# Source path (where KaggleHub stored the dataset)\n",
    "source_dir = r\"C:\\Users\\hp\\.cache\\kagglehub\\datasets\\lukechugh\\best-alzheimer-mri-dataset-99-accuracy\\versions\\1\"\n",
    "\n",
    "# Destination path (your target folder)\n",
    "target_dir = r\"E:\\University\\Year_3\\Grad\\ADNI_MULTIMODAL\\Model\\test_dataset\"\n",
    "\n",
    "# Make sure the destination folder exists\n",
    "os.makedirs(target_dir, exist_ok=True)\n",
    "\n",
    "# Move all files/folders from source to target\n",
    "for item in os.listdir(source_dir):\n",
    "    s = os.path.join(source_dir, item)\n",
    "    d = os.path.join(target_dir, item)\n",
    "    if os.path.isdir(s):\n",
    "        shutil.move(s, d)\n",
    "    else:\n",
    "        shutil.move(s, d)\n",
    "\n",
    "print(\"✅ Dataset successfully moved to:\", target_dir)\n"
   ]
  },
  {
   "cell_type": "code",
   "execution_count": null,
   "id": "5e3a74d8-6045-4093-ae8f-a57a00fbe5e6",
   "metadata": {},
   "outputs": [],
   "source": []
  }
 ],
 "metadata": {
  "kernelspec": {
   "display_name": "alzheimer",
   "language": "python",
   "name": "python3"
  },
  "language_info": {
   "codemirror_mode": {
    "name": "ipython",
    "version": 3
   },
   "file_extension": ".py",
   "mimetype": "text/x-python",
   "name": "python",
   "nbconvert_exporter": "python",
   "pygments_lexer": "ipython3",
   "version": "3.10.18"
  }
 },
 "nbformat": 4,
 "nbformat_minor": 5
}
